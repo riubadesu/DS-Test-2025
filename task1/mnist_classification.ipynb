{
 "cells": [
  {
   "cell_type": "code",
   "execution_count": 1,
   "id": "2cca5938-d3ad-4550-a4ce-79ef4246ad0e",
   "metadata": {},
   "outputs": [],
   "source": [
    "from abc import ABC, abstractmethod\n",
    "\n",
    "class MnistClassifierInterface(ABC):\n",
    "    @abstractmethod\n",
    "    def train(self, X_train, y_train):\n",
    "        pass\n",
    "\n",
    "    @abstractmethod\n",
    "    def predict(self, X_test):\n",
    "        pass\n"
   ]
  },
  {
   "cell_type": "code",
   "execution_count": 2,
   "id": "1f53dfec-b554-431a-b391-b13b91da93c5",
   "metadata": {},
   "outputs": [],
   "source": [
    "from sklearn.ensemble import RandomForestClassifier\n",
    "\n",
    "class RandomForestModel(MnistClassifierInterface):\n",
    "    def __init__(self):\n",
    "        self.model = RandomForestClassifier(n_estimators=100, random_state=42)\n",
    "\n",
    "    def train(self, X_train, y_train):\n",
    "        self.model.fit(X_train, y_train)\n",
    "\n",
    "    def predict(self, X_test):\n",
    "        return self.model.predict(X_test)\n"
   ]
  },
  {
   "cell_type": "code",
   "execution_count": 3,
   "id": "66fd23f2-91f5-4f7b-957b-88c876271fc3",
   "metadata": {},
   "outputs": [],
   "source": [
    "from tensorflow import keras\n",
    "from tensorflow.keras import layers\n",
    "\n",
    "class FFNNModel(MnistClassifierInterface):\n",
    "    def __init__(self):\n",
    "        self.model = keras.Sequential([\n",
    "            layers.Input(shape=(784,)),\n",
    "            layers.Dense(128, activation='relu'),\n",
    "            layers.Dropout(0.2),\n",
    "            layers.Dense(64, activation='relu'),\n",
    "            layers.Dropout(0.2),\n",
    "            layers.Dense(10, activation='softmax')\n",
    "        ])\n",
    "        self.model.compile(optimizer='adam', loss='categorical_crossentropy', metrics=['accuracy'])\n",
    "\n",
    "    def train(self, X_train, y_train):\n",
    "        self.model.fit(X_train, y_train, epochs=5, batch_size=64, validation_split=0.1)\n",
    "\n",
    "    def predict(self, X_test):\n",
    "        return self.model.predict(X_test).argmax(axis=1)\n"
   ]
  },
  {
   "cell_type": "code",
   "execution_count": 4,
   "id": "8cf6c309-8819-471c-8a5b-e144066a8dcb",
   "metadata": {},
   "outputs": [],
   "source": [
    "class CNNModel(MnistClassifierInterface):\n",
    "    def __init__(self):\n",
    "        self.model = keras.Sequential([\n",
    "            layers.Input(shape=(28, 28, 1)),\n",
    "            layers.Conv2D(32, (3, 3), activation='relu'),\n",
    "            layers.MaxPooling2D((2, 2)),\n",
    "            layers.Conv2D(64, (3, 3), activation='relu'),\n",
    "            layers.MaxPooling2D((2, 2)),\n",
    "            layers.Flatten(),\n",
    "            layers.Dense(64, activation='relu'),\n",
    "            layers.Dropout(0.2),\n",
    "            layers.Dense(10, activation='softmax')\n",
    "        ])\n",
    "        self.model.compile(optimizer='adam', loss='categorical_crossentropy', metrics=['accuracy'])\n",
    "\n",
    "    def train(self, X_train, y_train):\n",
    "        self.model.fit(X_train, y_train, epochs=5, batch_size=64, validation_split=0.1)\n",
    "\n",
    "    def predict(self, X_test):\n",
    "        return self.model.predict(X_test).argmax(axis=1)\n"
   ]
  },
  {
   "cell_type": "code",
   "execution_count": 5,
   "id": "4cdc8bf0-9407-46de-9ecc-a9a72f335f60",
   "metadata": {},
   "outputs": [],
   "source": [
    "class MnistClassifier:\n",
    "    def __init__(self, algorithm):\n",
    "        if algorithm == 'rf':\n",
    "            self.model = RandomForestModel()\n",
    "        elif algorithm == 'nn':\n",
    "            self.model = FFNNModel()\n",
    "        elif algorithm == 'cnn':\n",
    "            self.model = CNNModel()\n",
    "        else:\n",
    "            raise ValueError(\"Invalid algorithm. Choose from 'rf', 'nn', or 'cnn'.\")\n",
    "\n",
    "    def train(self, X_train, y_train):\n",
    "        self.model.train(X_train, y_train)\n",
    "\n",
    "    def predict(self, X_test):\n",
    "        return self.model.predict(X_test)\n"
   ]
  },
  {
   "cell_type": "code",
   "execution_count": 6,
   "id": "39306259-ffe7-43a1-9ab0-090bd67e957f",
   "metadata": {},
   "outputs": [
    {
     "name": "stdout",
     "output_type": "stream",
     "text": [
      "Random Forest Predictions: [7 2 1 0 4 1 4 9 5 9]\n",
      "Epoch 1/5\n",
      "\u001b[1m844/844\u001b[0m \u001b[32m━━━━━━━━━━━━━━━━━━━━\u001b[0m\u001b[37m\u001b[0m \u001b[1m5s\u001b[0m 4ms/step - accuracy: 0.7916 - loss: 0.6836 - val_accuracy: 0.9638 - val_loss: 0.1298\n",
      "Epoch 2/5\n",
      "\u001b[1m844/844\u001b[0m \u001b[32m━━━━━━━━━━━━━━━━━━━━\u001b[0m\u001b[37m\u001b[0m \u001b[1m3s\u001b[0m 3ms/step - accuracy: 0.9410 - loss: 0.1980 - val_accuracy: 0.9745 - val_loss: 0.0924\n",
      "Epoch 3/5\n",
      "\u001b[1m844/844\u001b[0m \u001b[32m━━━━━━━━━━━━━━━━━━━━\u001b[0m\u001b[37m\u001b[0m \u001b[1m3s\u001b[0m 3ms/step - accuracy: 0.9579 - loss: 0.1430 - val_accuracy: 0.9748 - val_loss: 0.0853\n",
      "Epoch 4/5\n",
      "\u001b[1m844/844\u001b[0m \u001b[32m━━━━━━━━━━━━━━━━━━━━\u001b[0m\u001b[37m\u001b[0m \u001b[1m3s\u001b[0m 3ms/step - accuracy: 0.9642 - loss: 0.1143 - val_accuracy: 0.9765 - val_loss: 0.0768\n",
      "Epoch 5/5\n",
      "\u001b[1m844/844\u001b[0m \u001b[32m━━━━━━━━━━━━━━━━━━━━\u001b[0m\u001b[37m\u001b[0m \u001b[1m3s\u001b[0m 3ms/step - accuracy: 0.9701 - loss: 0.0983 - val_accuracy: 0.9765 - val_loss: 0.0727\n",
      "\u001b[1m313/313\u001b[0m \u001b[32m━━━━━━━━━━━━━━━━━━━━\u001b[0m\u001b[37m\u001b[0m \u001b[1m0s\u001b[0m 1ms/step  \n",
      "FFNN Predictions: [7 2 1 0 4 1 4 9 5 9]\n",
      "Epoch 1/5\n",
      "\u001b[1m844/844\u001b[0m \u001b[32m━━━━━━━━━━━━━━━━━━━━\u001b[0m\u001b[37m\u001b[0m \u001b[1m11s\u001b[0m 11ms/step - accuracy: 0.8458 - loss: 0.4906 - val_accuracy: 0.9850 - val_loss: 0.0540\n",
      "Epoch 2/5\n",
      "\u001b[1m844/844\u001b[0m \u001b[32m━━━━━━━━━━━━━━━━━━━━\u001b[0m\u001b[37m\u001b[0m \u001b[1m9s\u001b[0m 10ms/step - accuracy: 0.9767 - loss: 0.0753 - val_accuracy: 0.9870 - val_loss: 0.0415\n",
      "Epoch 3/5\n",
      "\u001b[1m844/844\u001b[0m \u001b[32m━━━━━━━━━━━━━━━━━━━━\u001b[0m\u001b[37m\u001b[0m \u001b[1m9s\u001b[0m 10ms/step - accuracy: 0.9839 - loss: 0.0507 - val_accuracy: 0.9893 - val_loss: 0.0343\n",
      "Epoch 4/5\n",
      "\u001b[1m844/844\u001b[0m \u001b[32m━━━━━━━━━━━━━━━━━━━━\u001b[0m\u001b[37m\u001b[0m \u001b[1m9s\u001b[0m 10ms/step - accuracy: 0.9882 - loss: 0.0363 - val_accuracy: 0.9882 - val_loss: 0.0425\n",
      "Epoch 5/5\n",
      "\u001b[1m844/844\u001b[0m \u001b[32m━━━━━━━━━━━━━━━━━━━━\u001b[0m\u001b[37m\u001b[0m \u001b[1m9s\u001b[0m 10ms/step - accuracy: 0.9906 - loss: 0.0315 - val_accuracy: 0.9905 - val_loss: 0.0340\n",
      "\u001b[1m313/313\u001b[0m \u001b[32m━━━━━━━━━━━━━━━━━━━━\u001b[0m\u001b[37m\u001b[0m \u001b[1m1s\u001b[0m 3ms/step  \n",
      "CNN Predictions: [7 2 1 0 4 1 4 9 5 9]\n"
     ]
    }
   ],
   "source": [
    "import numpy as np\n",
    "from tensorflow.keras.datasets import mnist\n",
    "\n",
    "# Load dataset\n",
    "(X_train, y_train), (X_test, y_test) = mnist.load_data()\n",
    "X_train, X_test = X_train / 255.0, X_test / 255.0\n",
    "\n",
    "# Train & test Random Forest\n",
    "clf = MnistClassifier(algorithm='rf')\n",
    "clf.train(X_train.reshape(-1, 784), y_train)  # RF needs flattened images\n",
    "predictions = clf.predict(X_test.reshape(-1, 784))\n",
    "print(f\"Random Forest Predictions: {predictions[:10]}\")\n",
    "\n",
    "# Train & test FFNN\n",
    "clf = MnistClassifier(algorithm='nn')\n",
    "clf.train(X_train.reshape(-1, 784), keras.utils.to_categorical(y_train, 10))  # One-hot encoding\n",
    "predictions = clf.predict(X_test.reshape(-1, 784))\n",
    "print(f\"FFNN Predictions: {predictions[:10]}\")\n",
    "\n",
    "# Train & test CNN\n",
    "clf = MnistClassifier(algorithm='cnn')\n",
    "clf.train(X_train.reshape(-1, 28, 28, 1), keras.utils.to_categorical(y_train, 10))  # Reshaped images\n",
    "predictions = clf.predict(X_test.reshape(-1, 28, 28, 1))\n",
    "print(f\"CNN Predictions: {predictions[:10]}\")\n"
   ]
  },
  {
   "cell_type": "code",
   "execution_count": 9,
   "id": "b0e4713f-5fe1-46bc-9ea7-8ad2d0403917",
   "metadata": {},
   "outputs": [],
   "source": [
    "### Testing MnistClassifierInterface and Models"
   ]
  },
  {
   "cell_type": "code",
   "execution_count": 10,
   "id": "1daab8b0-06cf-4533-9aa2-7f4d848d1a62",
   "metadata": {},
   "outputs": [
    {
     "data": {
      "text/plain": [
       "True"
      ]
     },
     "execution_count": 10,
     "metadata": {},
     "output_type": "execute_result"
    }
   ],
   "source": [
    "issubclass(RandomForestModel, MnistClassifierInterface)\n"
   ]
  },
  {
   "cell_type": "code",
   "execution_count": 11,
   "id": "4e8070c3-b4fa-4519-b79d-543783243938",
   "metadata": {},
   "outputs": [
    {
     "data": {
      "text/plain": [
       "True"
      ]
     },
     "execution_count": 11,
     "metadata": {},
     "output_type": "execute_result"
    }
   ],
   "source": [
    "issubclass(FFNNModel, MnistClassifierInterface)\n"
   ]
  },
  {
   "cell_type": "code",
   "execution_count": 12,
   "id": "dd9f9abd-b063-4a28-aae2-d569cd35c407",
   "metadata": {},
   "outputs": [
    {
     "data": {
      "text/plain": [
       "True"
      ]
     },
     "execution_count": 12,
     "metadata": {},
     "output_type": "execute_result"
    }
   ],
   "source": [
    "issubclass(CNNModel, MnistClassifierInterface)"
   ]
  },
  {
   "cell_type": "code",
   "execution_count": 13,
   "id": "b8a5a4a4-74da-4880-b30c-eef69f44d8cb",
   "metadata": {},
   "outputs": [],
   "source": [
    "## Test Random Forest model"
   ]
  },
  {
   "cell_type": "code",
   "execution_count": 14,
   "id": "d4bf7a79-e266-4284-bdd0-0bc0bf86899a",
   "metadata": {},
   "outputs": [
    {
     "name": "stdout",
     "output_type": "stream",
     "text": [
      "RF Predictions: [7 2 1 0 4 1 4 9 5 9]\n"
     ]
    }
   ],
   "source": [
    "rf_model = RandomForestModel()\n",
    "#rf_model.train(X_train.reshape(-1, 784), y_train.argmax(axis=1))  # RF needs non-one-hot labels\n",
    "rf_model.train(X_train.reshape(-1, 784), y_train)  # No need for .argmax(axis=1)\n",
    "\n",
    "predictions = rf_model.predict(X_test.reshape(-1, 784))\n",
    "print(f\"RF Predictions: {predictions[:10]}\")\n"
   ]
  },
  {
   "cell_type": "code",
   "execution_count": 15,
   "id": "23cefab3-880f-447a-9b84-47c7bcd83c9b",
   "metadata": {},
   "outputs": [],
   "source": [
    "## Test FFNN model"
   ]
  },
  {
   "cell_type": "code",
   "execution_count": 16,
   "id": "2b6491a8-ad1d-40a9-b750-3e33f109b5eb",
   "metadata": {},
   "outputs": [
    {
     "name": "stdout",
     "output_type": "stream",
     "text": [
      "Epoch 1/5\n",
      "\u001b[1m844/844\u001b[0m \u001b[32m━━━━━━━━━━━━━━━━━━━━\u001b[0m\u001b[37m\u001b[0m \u001b[1m4s\u001b[0m 3ms/step - accuracy: 0.7802 - loss: 0.6991 - val_accuracy: 0.9615 - val_loss: 0.1312\n",
      "Epoch 2/5\n",
      "\u001b[1m844/844\u001b[0m \u001b[32m━━━━━━━━━━━━━━━━━━━━\u001b[0m\u001b[37m\u001b[0m \u001b[1m3s\u001b[0m 3ms/step - accuracy: 0.9432 - loss: 0.1948 - val_accuracy: 0.9733 - val_loss: 0.0925\n",
      "Epoch 3/5\n",
      "\u001b[1m844/844\u001b[0m \u001b[32m━━━━━━━━━━━━━━━━━━━━\u001b[0m\u001b[37m\u001b[0m \u001b[1m3s\u001b[0m 3ms/step - accuracy: 0.9563 - loss: 0.1428 - val_accuracy: 0.9757 - val_loss: 0.0874\n",
      "Epoch 4/5\n",
      "\u001b[1m844/844\u001b[0m \u001b[32m━━━━━━━━━━━━━━━━━━━━\u001b[0m\u001b[37m\u001b[0m \u001b[1m3s\u001b[0m 3ms/step - accuracy: 0.9646 - loss: 0.1175 - val_accuracy: 0.9783 - val_loss: 0.0741\n",
      "Epoch 5/5\n",
      "\u001b[1m844/844\u001b[0m \u001b[32m━━━━━━━━━━━━━━━━━━━━\u001b[0m\u001b[37m\u001b[0m \u001b[1m3s\u001b[0m 3ms/step - accuracy: 0.9701 - loss: 0.0979 - val_accuracy: 0.9780 - val_loss: 0.0735\n",
      "\u001b[1m313/313\u001b[0m \u001b[32m━━━━━━━━━━━━━━━━━━━━\u001b[0m\u001b[37m\u001b[0m \u001b[1m0s\u001b[0m 1ms/step  \n",
      "FFNN Predictions: [7 2 1 0 4 1 4 9 5 9]\n"
     ]
    }
   ],
   "source": [
    "ffnn_model = FFNNModel()\n",
    "ffnn_model.train(X_train.reshape(-1, 784), keras.utils.to_categorical(y_train, 10))  # FFNN needs one-hot labels\n",
    "predictions = ffnn_model.predict(X_test.reshape(-1, 784))\n",
    "print(f\"FFNN Predictions: {predictions[:10]}\")\n"
   ]
  },
  {
   "cell_type": "code",
   "execution_count": 17,
   "id": "d432ca1f-d8a6-477a-ba34-6304dd09c1d5",
   "metadata": {},
   "outputs": [],
   "source": [
    "## test cnn model"
   ]
  },
  {
   "cell_type": "code",
   "execution_count": 18,
   "id": "ebb678a4-929a-48cd-8ec5-bf93b1cd39a1",
   "metadata": {},
   "outputs": [
    {
     "name": "stdout",
     "output_type": "stream",
     "text": [
      "Epoch 1/5\n",
      "\u001b[1m844/844\u001b[0m \u001b[32m━━━━━━━━━━━━━━━━━━━━\u001b[0m\u001b[37m\u001b[0m \u001b[1m11s\u001b[0m 11ms/step - accuracy: 0.8374 - loss: 0.5019 - val_accuracy: 0.9813 - val_loss: 0.0572\n",
      "Epoch 2/5\n",
      "\u001b[1m844/844\u001b[0m \u001b[32m━━━━━━━━━━━━━━━━━━━━\u001b[0m\u001b[37m\u001b[0m \u001b[1m9s\u001b[0m 10ms/step - accuracy: 0.9744 - loss: 0.0826 - val_accuracy: 0.9883 - val_loss: 0.0387\n",
      "Epoch 3/5\n",
      "\u001b[1m844/844\u001b[0m \u001b[32m━━━━━━━━━━━━━━━━━━━━\u001b[0m\u001b[37m\u001b[0m \u001b[1m9s\u001b[0m 10ms/step - accuracy: 0.9829 - loss: 0.0556 - val_accuracy: 0.9897 - val_loss: 0.0346\n",
      "Epoch 4/5\n",
      "\u001b[1m844/844\u001b[0m \u001b[32m━━━━━━━━━━━━━━━━━━━━\u001b[0m\u001b[37m\u001b[0m \u001b[1m9s\u001b[0m 10ms/step - accuracy: 0.9871 - loss: 0.0419 - val_accuracy: 0.9902 - val_loss: 0.0343\n",
      "Epoch 5/5\n",
      "\u001b[1m844/844\u001b[0m \u001b[32m━━━━━━━━━━━━━━━━━━━━\u001b[0m\u001b[37m\u001b[0m \u001b[1m9s\u001b[0m 10ms/step - accuracy: 0.9891 - loss: 0.0358 - val_accuracy: 0.9895 - val_loss: 0.0359\n",
      "\u001b[1m313/313\u001b[0m \u001b[32m━━━━━━━━━━━━━━━━━━━━\u001b[0m\u001b[37m\u001b[0m \u001b[1m1s\u001b[0m 3ms/step  \n",
      "CNN Predictions: [7 2 1 0 4 1 4 9 5 9]\n"
     ]
    }
   ],
   "source": [
    "cnn_model = CNNModel()\n",
    "cnn_model.train(X_train.reshape(-1, 28, 28, 1), keras.utils.to_categorical(y_train, 10))  # CNN needs 28x28x1\n",
    "predictions = cnn_model.predict(X_test.reshape(-1, 28, 28, 1))\n",
    "print(f\"CNN Predictions: {predictions[:10]}\")\n"
   ]
  },
  {
   "cell_type": "code",
   "execution_count": 19,
   "id": "8dfd34d7-8e13-49e0-a309-9976f6c54330",
   "metadata": {},
   "outputs": [],
   "source": [
    "## Test the MnistClassifier Wrapper"
   ]
  },
  {
   "cell_type": "code",
   "execution_count": 20,
   "id": "ab3c4fb4-be15-4221-9773-dc2cf4bf6d4f",
   "metadata": {},
   "outputs": [
    {
     "name": "stdout",
     "output_type": "stream",
     "text": [
      "MnistClassifier RF Predictions: [7 2 1 0 4 1 4 9 5 9]\n"
     ]
    }
   ],
   "source": [
    "clf = MnistClassifier(algorithm='rf')\n",
    "clf.train(X_train.reshape(-1, 784), y_train)\n",
    "predictions = clf.predict(X_test.reshape(-1, 784))\n",
    "print(f\"MnistClassifier RF Predictions: {predictions[:10]}\")\n"
   ]
  },
  {
   "cell_type": "code",
   "execution_count": 21,
   "id": "23eaae20-01b2-4625-ba3c-af4c99972d3f",
   "metadata": {},
   "outputs": [
    {
     "name": "stdout",
     "output_type": "stream",
     "text": [
      "Epoch 1/5\n",
      "\u001b[1m844/844\u001b[0m \u001b[32m━━━━━━━━━━━━━━━━━━━━\u001b[0m\u001b[37m\u001b[0m \u001b[1m4s\u001b[0m 3ms/step - accuracy: 0.7855 - loss: 0.6829 - val_accuracy: 0.9648 - val_loss: 0.1312\n",
      "Epoch 2/5\n",
      "\u001b[1m844/844\u001b[0m \u001b[32m━━━━━━━━━━━━━━━━━━━━\u001b[0m\u001b[37m\u001b[0m \u001b[1m3s\u001b[0m 3ms/step - accuracy: 0.9419 - loss: 0.1948 - val_accuracy: 0.9703 - val_loss: 0.1016\n",
      "Epoch 3/5\n",
      "\u001b[1m844/844\u001b[0m \u001b[32m━━━━━━━━━━━━━━━━━━━━\u001b[0m\u001b[37m\u001b[0m \u001b[1m3s\u001b[0m 3ms/step - accuracy: 0.9575 - loss: 0.1380 - val_accuracy: 0.9743 - val_loss: 0.0856\n",
      "Epoch 4/5\n",
      "\u001b[1m844/844\u001b[0m \u001b[32m━━━━━━━━━━━━━━━━━━━━\u001b[0m\u001b[37m\u001b[0m \u001b[1m3s\u001b[0m 3ms/step - accuracy: 0.9647 - loss: 0.1155 - val_accuracy: 0.9773 - val_loss: 0.0749\n",
      "Epoch 5/5\n",
      "\u001b[1m844/844\u001b[0m \u001b[32m━━━━━━━━━━━━━━━━━━━━\u001b[0m\u001b[37m\u001b[0m \u001b[1m3s\u001b[0m 3ms/step - accuracy: 0.9691 - loss: 0.0987 - val_accuracy: 0.9785 - val_loss: 0.0774\n",
      "\u001b[1m313/313\u001b[0m \u001b[32m━━━━━━━━━━━━━━━━━━━━\u001b[0m\u001b[37m\u001b[0m \u001b[1m1s\u001b[0m 1ms/step  \n",
      "MnistClassifier FFNN Predictions: [7 2 1 0 4 1 4 9 5 9]\n"
     ]
    }
   ],
   "source": [
    "clf = MnistClassifier(algorithm='nn')\n",
    "clf.train(X_train.reshape(-1, 784), keras.utils.to_categorical(y_train, 10))\n",
    "predictions = clf.predict(X_test.reshape(-1, 784))\n",
    "print(f\"MnistClassifier FFNN Predictions: {predictions[:10]}\")\n"
   ]
  },
  {
   "cell_type": "code",
   "execution_count": 22,
   "id": "3210808e-b084-417b-a9c3-784a732f2baa",
   "metadata": {},
   "outputs": [
    {
     "name": "stdout",
     "output_type": "stream",
     "text": [
      "Epoch 1/5\n",
      "\u001b[1m844/844\u001b[0m \u001b[32m━━━━━━━━━━━━━━━━━━━━\u001b[0m\u001b[37m\u001b[0m \u001b[1m11s\u001b[0m 11ms/step - accuracy: 0.8429 - loss: 0.5022 - val_accuracy: 0.9813 - val_loss: 0.0586\n",
      "Epoch 2/5\n",
      "\u001b[1m844/844\u001b[0m \u001b[32m━━━━━━━━━━━━━━━━━━━━\u001b[0m\u001b[37m\u001b[0m \u001b[1m9s\u001b[0m 10ms/step - accuracy: 0.9734 - loss: 0.0831 - val_accuracy: 0.9878 - val_loss: 0.0409\n",
      "Epoch 3/5\n",
      "\u001b[1m844/844\u001b[0m \u001b[32m━━━━━━━━━━━━━━━━━━━━\u001b[0m\u001b[37m\u001b[0m \u001b[1m9s\u001b[0m 10ms/step - accuracy: 0.9819 - loss: 0.0579 - val_accuracy: 0.9877 - val_loss: 0.0378\n",
      "Epoch 4/5\n",
      "\u001b[1m844/844\u001b[0m \u001b[32m━━━━━━━━━━━━━━━━━━━━\u001b[0m\u001b[37m\u001b[0m \u001b[1m9s\u001b[0m 11ms/step - accuracy: 0.9858 - loss: 0.0446 - val_accuracy: 0.9908 - val_loss: 0.0337\n",
      "Epoch 5/5\n",
      "\u001b[1m844/844\u001b[0m \u001b[32m━━━━━━━━━━━━━━━━━━━━\u001b[0m\u001b[37m\u001b[0m \u001b[1m9s\u001b[0m 11ms/step - accuracy: 0.9900 - loss: 0.0326 - val_accuracy: 0.9913 - val_loss: 0.0325\n",
      "\u001b[1m313/313\u001b[0m \u001b[32m━━━━━━━━━━━━━━━━━━━━\u001b[0m\u001b[37m\u001b[0m \u001b[1m1s\u001b[0m 3ms/step  \n",
      "MnistClassifier CNN Predictions: [7 2 1 0 4 1 4 9 5 9]\n"
     ]
    }
   ],
   "source": [
    "clf = MnistClassifier(algorithm='cnn')\n",
    "clf.train(X_train.reshape(-1, 28, 28, 1), keras.utils.to_categorical(y_train, 10))\n",
    "predictions = clf.predict(X_test.reshape(-1, 28, 28, 1))\n",
    "print(f\"MnistClassifier CNN Predictions: {predictions[:10]}\")\n"
   ]
  },
  {
   "cell_type": "code",
   "execution_count": 23,
   "id": "05abd6b5-4554-4212-b3f9-d582154ef691",
   "metadata": {},
   "outputs": [],
   "source": [
    "## Edge Case Tests"
   ]
  },
  {
   "cell_type": "code",
   "execution_count": null,
   "id": "0b0251b8-2793-4924-ba82-6f2bd21acd10",
   "metadata": {},
   "outputs": [
    {
     "name": "stdout",
     "output_type": "stream",
     "text": [
      "🛑 Error Caught (Invalid Data Type): could not convert string to float: 'invalid_data'\n",
      "🛑 Error Caught (Empty Data): Training data contains 0 samples, which is not sufficient to split it into a validation and training set as specified by `validation_split=0.1`. Either provide more data, or a different value for the `validation_split` argument.\n",
      "Epoch 1/5\n",
      "🛑 Error Caught (Wrong Shape): Exception encountered when calling Sequential.call().\n",
      "\n",
      "\u001b[1mInvalid input shape for input Tensor(\"data:0\", shape=(None, 10), dtype=float32). Expected shape (None, 28, 28, 1), but input has incompatible shape (None, 10)\u001b[0m\n",
      "\n",
      "Arguments received by Sequential.call():\n",
      "  • inputs=tf.Tensor(shape=(None, 10), dtype=float32)\n",
      "  • training=True\n",
      "  • mask=None\n"
     ]
    }
   ],
   "source": [
    "import numpy as np\n",
    "\n",
    "# Test 1: Passing invalid data type (string instead of image data)\n",
    "try:\n",
    "    clf = MnistClassifier(algorithm='rf')\n",
    "    clf.train(\"invalid_data\", \"invalid_labels\")  # Should raise an error\n",
    "except Exception as e:\n",
    "    print(f\"🛑 Error Caught (Invalid Data Type): {e}\")\n",
    "\n",
    "# Test 2: Passing empty data\n",
    "try:\n",
    "    clf = MnistClassifier(algorithm='nn')\n",
    "    clf.train(np.array([]), np.array([]))  # Should raise an error\n",
    "except Exception as e:\n",
    "    print(f\"🛑 Error Caught (Empty Data): {e}\")\n",
    "\n",
    "# Test 3: Wrong shape for CNN\n",
    "try:\n",
    "    clf = MnistClassifier(algorithm='cnn')\n",
    "    clf.train(np.random.rand(10, 10), np.random.rand(10, 10))  # Should raise an error\n",
    "except Exception as e:\n",
    "    print(f\"🛑 Error Caught (Wrong Shape): {e}\")\n",
    "\n",
    "# Test 4: Training with NaN values\n",
    "try:\n",
    "    clf = MnistClassifier(algorithm='rf')\n",
    "    X_train_nan = X_train.reshape(-1, 784).copy()\n",
    "    X_train_nan[0, 0] = np.nan  # Inject NaN into the first sample\n",
    "    clf.train(X_train_nan, y_train)\n",
    "except Exception as e:\n",
    "    print(f\"🛑 Error Caught (NaN Values in Input): {e}\")\n",
    "\n",
    "# Test 5: Training with incorrect labels (strings instead of numbers)\n",
    "try:\n",
    "    clf = MnistClassifier(algorithm='nn')\n",
    "    y_train_invalid = np.array([\"A\"] * len(y_train))  # Non-numeric labels\n",
    "    clf.train(X_train.reshape(-1, 784), y_train_invalid)\n",
    "except Exception as e:\n",
    "    print(f\"🛑 Error Caught (Invalid Labels): {e}\")\n",
    "\n",
    "# Test 6: Training with batch size of 1 (Minimal Input)\n",
    "try:\n",
    "    clf = MnistClassifier(algorithm='cnn')\n",
    "    X_train_small = X_train[:1].reshape(1, 28, 28, 1)  # Only one sample\n",
    "    y_train_small = keras.utils.to_categorical(y_train[:1], 10)\n",
    "    clf.train(X_train_small, y_train_small)\n",
    "    print(\"✅ Passed: Model can train with a batch of 1 sample\")\n",
    "except Exception as e:\n",
    "    print(f\"🛑 Error Caught (Batch Size 1): {e}\")\n"
   ]
  },
  {
   "cell_type": "code",
   "execution_count": null,
   "id": "388788b9-be55-4eb7-b8a2-ce632700351f",
   "metadata": {},
   "outputs": [],
   "source": []
  }
 ],
 "metadata": {
  "kernelspec": {
   "display_name": "Python 3 (ipykernel)",
   "language": "python",
   "name": "python3"
  },
  "language_info": {
   "codemirror_mode": {
    "name": "ipython",
    "version": 3
   },
   "file_extension": ".py",
   "mimetype": "text/x-python",
   "name": "python",
   "nbconvert_exporter": "python",
   "pygments_lexer": "ipython3",
   "version": "3.11.9"
  }
 },
 "nbformat": 4,
 "nbformat_minor": 5
}
